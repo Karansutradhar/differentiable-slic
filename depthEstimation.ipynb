{
 "cells": [
  {
   "cell_type": "code",
   "execution_count": 1,
   "metadata": {},
   "outputs": [],
   "source": [
    "import os\n",
    "import torch\n",
    "from torch.utils import data\n",
    "from pytorch_ssn.model.SSN import SSN, crop_like, superpixel_flow\n",
    "from PIL import Image\n",
    "from pytorch_ssn.model.util import get_spixel_image\n",
    "import sys\n",
    "import numpy as np\n",
    "from tqdm import tqdm\n",
    "import cv2\n",
    "import matplotlib.pyplot as plt\n",
    "import pytorch_ssn.IO as IO\n",
    "from pytorch_ssn.connectivity import enforce_connectivity\n"
   ]
  },
  {
   "cell_type": "code",
   "execution_count": 3,
   "metadata": {},
   "outputs": [
    {
     "name": "stdout",
     "output_type": "stream",
     "text": [
      "cuda\n"
     ]
    }
   ],
   "source": [
    "\n",
    "\n",
    "from PIL import Image\n",
    "import torch.nn.functional as F\n",
    "import matplotlib.pyplot as plt\n",
    "\n",
    "from glob import glob \n",
    "from skimage.color import rgb2lab\n",
    "from skimage.util import img_as_float\n",
    "from skimage import io\n",
    "\n",
    "from pytorch_ssn.dataset import Resize, ssn_preprocess\n",
    "\n",
    "import pytorch_ssn.RAFT.core.datasets as datasets\n",
    "from pytorch_ssn.RAFT.core.raft import RAFT\n",
    "from pytorch_ssn.RAFT.core.utils.utils import InputPadder, forward_interpolate\n",
    "\n",
    "\n",
    "os.environ['CUDA_VISIBLE_DEVICES']='0'\n",
    "device = torch.device(\"cuda\") if torch.cuda.is_available() else torch.device(\"cpu\")\n",
    "print(device)\n",
    "\n"
   ]
  },
  {
   "cell_type": "code",
   "execution_count": 4,
   "metadata": {},
   "outputs": [],
   "source": [
    "# Helper Functions\n",
    "class ARGS:\n",
    "    def __init__(self):\n",
    "        self.n_spixels=100\n",
    "        self.num_steps=10\n",
    "        self.result_dir='./results/pix/'\n",
    "        self.pre_dir='./pytorch_ssn/model/slic_model/45000_0.527_model.pt'        \n",
    "        self.root = 'data'\n",
    "args = ARGS()\n",
    "\n",
    "\n",
    "def imgtensor2np(img):\n",
    "    return img.permute(1,2,0).detach().cpu().numpy()\n",
    "def to_device(args, device):\n",
    "    args_out = []\n",
    "    for arg in args:\n",
    "        if isinstance(arg, list):\n",
    "            arg = [ elem.to(device) for elem in arg ]\n",
    "        else:\n",
    "            arg = arg.to(device)\n",
    "        args_out.append(arg)\n",
    "    return args_out\n",
    "\n",
    "def segmentfromLabels(given_img, new_spix_indices, num_h,num_w, enforce_connectivity=False):\n",
    "    h, w = given_img.shape[0], given_img.shape[1]\n",
    "    new_spix_indices = new_spix_indices[:, :h, :w].contiguous()\n",
    "    spix_index = new_spix_indices.cpu().numpy()[0]\n",
    "    spix_index = spix_index.astype(int)\n",
    "\n",
    "    if enforce_connectivity:\n",
    "        segment_size = (given_img.shape[0] * given_img.shape[1]) / (int(num_h*num_w) * 1.0)\n",
    "        min_size = int(0.06 * segment_size)\n",
    "        max_size = int(3 * segment_size)\n",
    "        spix_index = enforce_connectivity(spix_index[np.newaxis, :, :], min_size, max_size)[0]\n",
    "\n",
    "    return  get_spixel_image(given_img, spix_index)\n"
   ]
  },
  {
   "cell_type": "code",
   "execution_count": 5,
   "metadata": {},
   "outputs": [],
   "source": [
    "class DataTemplate(data.Dataset):\n",
    "    def __init__(self, root = \"/home/gokul/courses/CMSC828I/sinteldata/MPI-Sintel-complete\", mode = 'training',folder = 'alley_2', shape = (128,256)):\n",
    "        \n",
    "        # self.imfiles = sorted(glob(root + f'/images/{mode}/*.jpg')); self.gtfiles = sorted(glob(root + f'/groundTruth/{mode}/*.mat'))\n",
    "        self.imfiles = sorted(glob(root + f'/{mode}/clean/{folder}/*.png' ))\n",
    "        self.flofiles = sorted(glob(root +f'/{mode}/flow/{folder}/*.flo') )\n",
    "        assert len(self.imfiles)-1 == len(self.flofiles), f' {len(self.imfiles), len(self.flofiles)-1}'\n",
    "        self.resize = Resize(shape)\n",
    "\n",
    "    def __getitem__(self, i):\n",
    "        # load image and GT segment\n",
    "        imfile1,imfile2, flofile = self.imfiles[i],self.imfiles[i+1], self.flofiles[i]        \n",
    "        im1,im2, flo = rgb2lab(img_as_float(io.imread(imfile1)) ),rgb2lab(img_as_float(io.imread(imfile2)) ), IO.read(flofile)\n",
    "        im1,im2, flo = self.resize(im1, im1.shape[:2]),self.resize(im2, im2.shape[:2]), self.resize(flo, flo.shape[:2])\n",
    "        h,w = im1.shape[:2]\n",
    "\n",
    "        k = int(0.5 * (h*w)//25 )\n",
    "        # print(k)\n",
    "        ssn_inputs, ssn_args = ssn_preprocess(im1, None, k )\n",
    "        im1 = np.transpose(im1, [2, 0, 1]).astype(np.float32)\n",
    "        im2 = np.transpose(im2, [2, 0, 1]).astype(np.float32)\n",
    "        flo = np.transpose(flo, [2, 0, 1]).astype(np.float32)\n",
    "        return [im1, im2], flo, ssn_inputs, ssn_args\n",
    "\n",
    "    def __len__(self):\n",
    "        return len(self.flofiles)\n",
    "\n",
    "dataset = DataTemplate()\n",
    "dataloader= data.DataLoader(dataset,batch_size=1, shuffle=False, num_workers=1)\n"
   ]
  },
  {
   "cell_type": "code",
   "execution_count": 6,
   "metadata": {},
   "outputs": [],
   "source": [
    "# predict optical flow and segment\n",
    "class MODELARGS:\n",
    "    def __init__(self):\n",
    "        self.model = \"./pytorch_ssn/model/flow_model/raft-kitti.pth\"    \n",
    "        self.small= False; self.mixed_precision = True; \n",
    "        self.alternate_corr=False; self.dropout = 0\n",
    "modelargs = MODELARGS()\n",
    "\n",
    "# slic layer\n",
    "SSNLayer = SSN(args.pre_dir, spixel_size=(5,5),dtype = 'layer', device = device)\n",
    "# flow network\n",
    "net = torch.nn.DataParallel(RAFT(modelargs))\n",
    "net.load_state_dict(torch.load(modelargs.model))\n",
    "net = net.module.to(device)"
   ]
  },
  {
   "cell_type": "code",
   "execution_count": null,
   "metadata": {},
   "outputs": [],
   "source": [
    "args.savefolder = 'sintelsegflow'\n",
    "IO.foldercheck(f'{args.savefolder}/gt')\n",
    "IO.foldercheck(f'{args.savefolder}/pred')\n",
    "\n",
    "from loss import EPE\n",
    "\n",
    "net.eval()\n",
    "epe = []\n",
    "for idx, data_sample in tqdm(enumerate(dataloader)):\n",
    "    [im1, im2], flow, ssn_input, ssn_params = data_sample\n",
    "    im1, im2, flow = to_device([im1, im2, flow], device)\n",
    "\n",
    "    padder = InputPadder(im1.shape, mode='sintel')\n",
    "    input1, input2 = padder.pad(im1, im2)\n",
    "\n",
    "    flow_low, flow_pr = net(input1, input2, iters=24, test_mode=True)\n",
    "    # epe.append(EPE(flow_pr, flow).item())\n",
    "\n",
    "    ssn_input = ssn_input.to(device)  \n",
    "    ssn_params = to_device(ssn_params, device)\n",
    "    ssn_params.extend([None])\n",
    "    _, spix_indices = SSNLayer(ssn_input, ssn_params)    \n",
    "\n",
    "    spix_indices = crop_like(spix_indices.unsqueeze(1), im1)\n",
    "    segflow_GT, _ = superpixel_flow( flow.clone(), spix_indices)\n",
    "    segflow_pred, _ = superpixel_flow( flow_pr.clone(), spix_indices)    \n",
    "    epe.append(EPE(segflow_pred, flow).item())\n",
    "\n",
    "\n",
    "    # flowrgb_GT = IO.visualize_flow( imgtensor2np(segflow_GT[0]) ) \n",
    "    # flowrgb_pred = IO.visualize_flow(imgtensor2np(flow_pr[0]))\n",
    "    # cv2.imwrite(f'{args.savefolder}/gt/{str(idx).zfill(2)}.png', flowrgb_GT)\n",
    "    # cv2.imwrite(f'{args.savefolder}/pred/{str(idx).zfill(2)}.png', flowrgb_pred)\n"
   ]
  },
  {
   "cell_type": "code",
   "execution_count": 26,
   "metadata": {},
   "outputs": [
    {
     "data": {
      "text/plain": [
       "0.34889925560172724"
      ]
     },
     "execution_count": 26,
     "metadata": {},
     "output_type": "execute_result"
    }
   ],
   "source": [
    "# EPE predicted flow\n",
    "np.mean(epe)"
   ]
  },
  {
   "cell_type": "code",
   "execution_count": 30,
   "metadata": {},
   "outputs": [
    {
     "data": {
      "text/plain": [
       "0.35035872307358956"
      ]
     },
     "execution_count": 30,
     "metadata": {},
     "output_type": "execute_result"
    }
   ],
   "source": [
    "# EPE segmented flow\n",
    "np.mean(epe)"
   ]
  },
  {
   "cell_type": "code",
   "execution_count": null,
   "metadata": {},
   "outputs": [],
   "source": [
    "# [TODO] Depth Estimation with Tartan Dataloader\n",
    "for idx , sample in tqdm(dataloader):\n",
    "    im0, im1, flow, depth, tr_gt, rot_gt, intrinsics, ssn_input, ssn_params = sample\n",
    "    \n",
    "    padder = InputPadder(im1.shape, mode='sintel')\n",
    "    input1, input2 = padder.pad(im1, im2)\n",
    "\n",
    "    flow_low, flow_pr = net(input1, input2, iters=24, test_mode=True)\n",
    "    # epe.append(EPE(flow_pr, flow).item())\n",
    "\n",
    "    ssn_input = ssn_input.to(device)  \n",
    "    ssn_params = to_device(ssn_params, device)\n",
    "    ssn_params.extend([None])\n",
    "    _, spix_indices = SSNLayer(ssn_input, ssn_params)    \n",
    "\n",
    "    net(im0, im1)"
   ]
  }
 ],
 "metadata": {
  "interpreter": {
   "hash": "31f2aee4e71d21fbe5cf8b01ff0e069b9275f58929596ceb00d14d90e3e16cd6"
  },
  "kernelspec": {
   "display_name": "Python 3.6.9 64-bit",
   "language": "python",
   "name": "python3"
  },
  "language_info": {
   "codemirror_mode": {
    "name": "ipython",
    "version": 3
   },
   "file_extension": ".py",
   "mimetype": "text/x-python",
   "name": "python",
   "nbconvert_exporter": "python",
   "pygments_lexer": "ipython3",
   "version": "3.6.9"
  },
  "orig_nbformat": 4
 },
 "nbformat": 4,
 "nbformat_minor": 2
}
