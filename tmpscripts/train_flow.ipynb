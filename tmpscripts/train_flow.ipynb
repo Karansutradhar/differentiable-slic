{
 "cells": [
  {
   "cell_type": "code",
   "execution_count": 3,
   "metadata": {},
   "outputs": [
    {
     "name": "stdout",
     "output_type": "stream",
     "text": [
      "cuda\n"
     ]
    }
   ],
   "source": []
  },
  {
   "cell_type": "code",
   "execution_count": 2,
   "metadata": {},
   "outputs": [],
   "source": []
  },
  {
   "cell_type": "code",
   "execution_count": null,
   "metadata": {},
   "outputs": [],
   "source": []
  },
  {
   "cell_type": "code",
   "execution_count": null,
   "metadata": {},
   "outputs": [],
   "source": []
  },
  {
   "cell_type": "code",
   "execution_count": 1,
   "metadata": {},
   "outputs": [
    {
     "name": "stdout",
     "output_type": "stream",
     "text": [
      "alt cuda corr not found\n",
      "cuda\n"
     ]
    }
   ],
   "source": []
  },
  {
   "cell_type": "code",
   "execution_count": 13,
   "metadata": {},
   "outputs": [
    {
     "name": "stderr",
     "output_type": "stream",
     "text": [
      "Exception ignored in: <bound method _MultiProcessingDataLoaderIter.__del__ of <torch.utils.data.dataloader._MultiProcessingDataLoaderIter object at 0x7f4a947091d0>>\n",
      "Traceback (most recent call last):\n",
      "  File \"/home/gokul/.local/lib/python3.6/site-packages/torch/utils/data/dataloader.py\", line 1328, in __del__\n",
      "    self._shutdown_workers()\n",
      "  File \"/home/gokul/.local/lib/python3.6/site-packages/torch/utils/data/dataloader.py\", line 1301, in _shutdown_workers\n",
      "    w.join(timeout=_utils.MP_STATUS_CHECK_INTERVAL)\n",
      "  File \"/usr/lib/python3.6/multiprocessing/process.py\", line 124, in join\n",
      "    res = self._popen.wait(timeout)\n",
      "  File \"/usr/lib/python3.6/multiprocessing/popen_fork.py\", line 47, in wait\n",
      "    if not wait([self.sentinel], timeout):\n",
      "  File \"/usr/lib/python3.6/multiprocessing/connection.py\", line 911, in wait\n",
      "    ready = selector.select(timeout)\n",
      "  File \"/usr/lib/python3.6/selectors.py\", line 376, in select\n",
      "    fd_event_list = self._poll.poll(timeout)\n",
      "KeyboardInterrupt: \n"
     ]
    },
    {
     "name": "stdout",
     "output_type": "stream",
     "text": [
      "torch.Size([1, 2, 256, 256])\n"
     ]
    }
   ],
   "source": []
  },
  {
   "cell_type": "code",
   "execution_count": 14,
   "metadata": {},
   "outputs": [
    {
     "name": "stdout",
     "output_type": "stream",
     "text": [
      "torch.Size([1, 2, 256, 256])\n"
     ]
    }
   ],
   "source": [
    "\n",
    "for sample in train_loader:\n",
    "    im1,im2,gt1,gt2, flow = sample[:-2]\n",
    "    print(flow.shape)\n",
    "    break"
   ]
  },
  {
   "cell_type": "code",
   "execution_count": null,
   "metadata": {},
   "outputs": [],
   "source": [
    "\n",
    "valset = TartanLoader(basepath = ['Data/office2'], mode = 'test09', scale = 2)\n",
    "val_loader = DataLoader(valset, batch_size=args.batch_size, shuffle=False, num_workers=4)\n",
    "\n",
    "trainset = TartanLoader(basepath = ['Data/office2'], mode = 'test05', scale = 2)\n",
    "train_loader = DataLoader(trainset, batch_size=args.batch_size, shuffle=False, num_workers=4)\n",
    "args.num_steps = args.epochs * len(train_loader)\n",
    "\n",
    "# slic layer\n",
    "# SSNLayer = SSN(args.ssn_dir, spixel_size=(5,5),dtype = 'layer', device = device)\n",
    "\n",
    "# flow network\n",
    "\n",
    "\n",
    "optimizer, scheduler = Optimizer(args, net)\n",
    "scaler = GradScaler(enabled = args.mixed_precision)\n",
    "\n",
    "\n",
    "foldercheck('checkpoints/')\n",
    "best_error = float(\"inf\")\n"
   ]
  },
  {
   "cell_type": "code",
   "execution_count": null,
   "metadata": {},
   "outputs": [],
   "source": [
    "\n",
    "\n",
    "for epoch in range(args.epochs):\n",
    "    train_loss = trainer(args, train_loader, net, optimizer, scaler, epoch)\n",
    "    val_epe = validate(args, val_loader, net)\n",
    "\n",
    "    print(f\"**** END OF EPOCH: {epoch} || Train loss: {train_loss} || val epe: {val_epe}  **** \")\n",
    "\n",
    "    if val_epe < best_error:\n",
    "        PATH = f'checkpoints/{iters+1}_tartan.pth' \n",
    "        print(f\"saving model in {PATH}\")\n",
    "        torch.save(net.state_dict(), PATH)\n",
    "\n",
    "\n"
   ]
  }
 ],
 "metadata": {
  "interpreter": {
   "hash": "31f2aee4e71d21fbe5cf8b01ff0e069b9275f58929596ceb00d14d90e3e16cd6"
  },
  "kernelspec": {
   "display_name": "Python 3.6.9 64-bit",
   "language": "python",
   "name": "python3"
  },
  "language_info": {
   "codemirror_mode": {
    "name": "ipython",
    "version": 3
   },
   "file_extension": ".py",
   "mimetype": "text/x-python",
   "name": "python",
   "nbconvert_exporter": "python",
   "pygments_lexer": "ipython3",
   "version": "3.6.9"
  },
  "orig_nbformat": 4
 },
 "nbformat": 4,
 "nbformat_minor": 2
}
